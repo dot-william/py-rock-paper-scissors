{
 "cells": [
  {
   "attachments": {},
   "cell_type": "markdown",
   "id": "7f27dec3",
   "metadata": {},
   "source": [
    "# Object-oriented Programming"
   ]
  },
  {
   "attachments": {},
   "cell_type": "markdown",
   "id": "8266d717",
   "metadata": {},
   "source": [
    "## Writing a class"
   ]
  },
  {
   "cell_type": "code",
   "execution_count": 1,
   "id": "0de6b07d",
   "metadata": {},
   "outputs": [],
   "source": [
    "class Dog:\n",
    "    \n",
    "    def __init__(self, name, age, breed):\n",
    "        self.name = name\n",
    "        self.age = age\n",
    "        self.breed = breed\n",
    "    \n",
    "    def bark(self):\n",
    "        print(\"arf arf\")        "
   ]
  },
  {
   "attachments": {},
   "cell_type": "markdown",
   "id": "a168c6c4",
   "metadata": {},
   "source": [
    "**Attribute(s)**\n",
    "\n",
    "1. name\n",
    "2. age\n",
    "3. breed\n",
    "\n",
    "**Method(s)**\n",
    "\n",
    "1. bark"
   ]
  },
  {
   "attachments": {},
   "cell_type": "markdown",
   "id": "7d2db21b",
   "metadata": {},
   "source": [
    "## Instantiating an object"
   ]
  },
  {
   "cell_type": "code",
   "execution_count": 2,
   "id": "19df396d",
   "metadata": {},
   "outputs": [],
   "source": [
    "dog = Dog(\n",
    "    \"bunbun\",\n",
    "    \"1\",\n",
    "    \"chihuahua\",\n",
    ")"
   ]
  },
  {
   "attachments": {},
   "cell_type": "markdown",
   "id": "39695b5e",
   "metadata": {},
   "source": [
    "## Accessing the attributes and methods"
   ]
  },
  {
   "cell_type": "code",
   "execution_count": 3,
   "id": "979a2d1a",
   "metadata": {},
   "outputs": [
    {
     "data": {
      "text/plain": [
       "'bunbun'"
      ]
     },
     "execution_count": 3,
     "metadata": {},
     "output_type": "execute_result"
    }
   ],
   "source": [
    "dog.name"
   ]
  },
  {
   "cell_type": "code",
   "execution_count": 4,
   "id": "1292ffeb",
   "metadata": {},
   "outputs": [
    {
     "data": {
      "text/plain": [
       "'1'"
      ]
     },
     "execution_count": 4,
     "metadata": {},
     "output_type": "execute_result"
    }
   ],
   "source": [
    "dog.age"
   ]
  },
  {
   "cell_type": "code",
   "execution_count": 5,
   "id": "6e2d1768",
   "metadata": {},
   "outputs": [
    {
     "data": {
      "text/plain": [
       "'chihuahua'"
      ]
     },
     "execution_count": 5,
     "metadata": {},
     "output_type": "execute_result"
    }
   ],
   "source": [
    "dog.breed"
   ]
  },
  {
   "cell_type": "code",
   "execution_count": 6,
   "id": "580c346c",
   "metadata": {},
   "outputs": [
    {
     "name": "stdout",
     "output_type": "stream",
     "text": [
      "arf arf\n"
     ]
    }
   ],
   "source": [
    "dog.bark()"
   ]
  },
  {
   "attachments": {},
   "cell_type": "markdown",
   "id": "b29ea592",
   "metadata": {},
   "source": [
    "## OOP Principles"
   ]
  },
  {
   "attachments": {},
   "cell_type": "markdown",
   "id": "377b06b9",
   "metadata": {},
   "source": [
    "### 1. Abstraction"
   ]
  },
  {
   "cell_type": "code",
   "execution_count": 7,
   "id": "ad188f75",
   "metadata": {},
   "outputs": [
    {
     "data": {
      "text/plain": [
       "2"
      ]
     },
     "execution_count": 7,
     "metadata": {},
     "output_type": "execute_result"
    }
   ],
   "source": [
    "class Dog:\n",
    "    \n",
    "    def __init__(self, name, age, breed):\n",
    "        self.name = name\n",
    "        self.age = age\n",
    "        self.breed = breed\n",
    "        self.weight = 1\n",
    "        \n",
    "    def bark(self):\n",
    "        print('arf arf')\n",
    "        \n",
    "    def eat(self, food):\n",
    "        # insert statement\n",
    "        # insert statement\n",
    "        # insert statement\n",
    "        self.weight += 1\n",
    "\n",
    "dog = Dog(\n",
    "    \"bunbun\",\n",
    "    \"1\",\n",
    "    \"american bully\",\n",
    ")\n",
    "\n",
    "dog.eat(\n",
    "    \"hotdog\"\n",
    ")\n",
    "dog.weight"
   ]
  },
  {
   "attachments": {},
   "cell_type": "markdown",
   "id": "cea64097",
   "metadata": {},
   "source": [
    "### 2. Encapsulation"
   ]
  },
  {
   "cell_type": "code",
   "execution_count": 8,
   "id": "065100da",
   "metadata": {},
   "outputs": [],
   "source": [
    "class Dog:\n",
    "    \n",
    "    def __init__(self, name, age, breed):\n",
    "        self.name = name\n",
    "        self.age = age\n",
    "        self.breed = breed\n",
    "        self.weight = 1\n",
    "        \n",
    "    def set_address(self, address):\n",
    "        self.__address = address\n",
    "    \n",
    "    def get_address(self):\n",
    "        return self.__address\n",
    "        \n",
    "    def bark(self):\n",
    "        print('arf arf')\n",
    "\n",
    "dog = Dog(\n",
    "    \"bunbun\",\n",
    "    \"1\",\n",
    "    \"american bully\",\n",
    ")"
   ]
  },
  {
   "cell_type": "code",
   "execution_count": 9,
   "id": "3ad4fc47",
   "metadata": {},
   "outputs": [
    {
     "data": {
      "text/plain": [
       "'ph'"
      ]
     },
     "execution_count": 9,
     "metadata": {},
     "output_type": "execute_result"
    }
   ],
   "source": [
    "# this works but should not be done due to convention\n",
    "dog.__address = 'ph'\n",
    "dog.__address"
   ]
  },
  {
   "cell_type": "code",
   "execution_count": 10,
   "id": "9da1fb7a",
   "metadata": {},
   "outputs": [
    {
     "data": {
      "text/plain": [
       "'ph'"
      ]
     },
     "execution_count": 10,
     "metadata": {},
     "output_type": "execute_result"
    }
   ],
   "source": [
    "# this is the proper way\n",
    "dog.set_address('ph')\n",
    "dog.get_address()"
   ]
  },
  {
   "attachments": {},
   "cell_type": "markdown",
   "id": "622ac5bb",
   "metadata": {},
   "source": [
    "### 3. Inheritance"
   ]
  },
  {
   "cell_type": "code",
   "execution_count": 11,
   "id": "223d568d",
   "metadata": {},
   "outputs": [],
   "source": [
    "class Animal:\n",
    "    \n",
    "    def __init__(self, name, age):\n",
    "        # insert code here\n",
    "        self.name = name\n",
    "        self.age = age\n",
    "        self.weight = 1\n",
    "    \n",
    "    def walk(self):\n",
    "        print('this animal is walking')\n",
    "\n",
    "        \n",
    "class Dog(Animal):\n",
    "    \n",
    "    def __init__(self, name, age, breed):\n",
    "        super().__init__(name, age)\n",
    "        self.breed = breed\n",
    "    \n",
    "    def bark(self):\n",
    "        print('arf arf')\n",
    "\n",
    "        \n",
    "dog = Dog(\n",
    "    \"bunbun\",\n",
    "    \"1\",\n",
    "    \"american bully\",\n",
    ")"
   ]
  },
  {
   "cell_type": "code",
   "execution_count": 13,
   "id": "1576f1a6",
   "metadata": {},
   "outputs": [
    {
     "name": "stdout",
     "output_type": "stream",
     "text": [
      "this animal is walking\n"
     ]
    }
   ],
   "source": [
    "# make the dog walk\n",
    "# insert code here\n",
    "dog.walk()"
   ]
  },
  {
   "attachments": {},
   "cell_type": "markdown",
   "id": "22b1de99",
   "metadata": {},
   "source": [
    "### 4. Polymorphism"
   ]
  },
  {
   "cell_type": "code",
   "execution_count": 16,
   "id": "b587cfb8",
   "metadata": {},
   "outputs": [],
   "source": [
    "class Animal:\n",
    "    \n",
    "    def __init__(self, name, age):\n",
    "        # insert code here\n",
    "        self.name = name\n",
    "        self.age = age\n",
    "        self.weight = 1\n",
    "    \n",
    "    def walk(self):\n",
    "        print('this animal is walking')\n",
    "\n",
    "        \n",
    "class Dog(Animal):\n",
    "    \n",
    "    def __init__(self, name, age, breed):\n",
    "        super().__init__(name, age)\n",
    "        self.breed = breed\n",
    "    \n",
    "    def bark(self):\n",
    "        print('arf arf')\n",
    "\n",
    "\n",
    "class Fish(Animal):\n",
    "    \n",
    "    def walk(self):\n",
    "        print('fish cannot walk')\n",
    "\n",
    "        \n",
    "dog = Dog(\n",
    "    \"bunbun\",\n",
    "    \"1\",\n",
    "    \"american bully\"\n",
    ")\n",
    "\n",
    "fish = Fish(\n",
    "    \"fishy\",\n",
    "    \"100\",\n",
    ")"
   ]
  },
  {
   "cell_type": "code",
   "execution_count": 17,
   "id": "9d5e70ee",
   "metadata": {},
   "outputs": [
    {
     "name": "stdout",
     "output_type": "stream",
     "text": [
      "this animal is walking\n",
      "fish cannot walk\n"
     ]
    }
   ],
   "source": [
    "# make the animals walk \n",
    "animals = [dog, fish]\n",
    "for animal in animals:\n",
    "    # insert code here\n",
    "    animal.walk()"
   ]
  },
  {
   "cell_type": "code",
   "execution_count": 27,
   "id": "411d8459",
   "metadata": {},
   "outputs": [],
   "source": [
    "class NewInteger:\n",
    "\tdef __init__(self, integer):\n",
    "\t\tself.integer = integer\n",
    "\tdef __add__(self, other):\n",
    "\t\treturn self.integer + other.integer\n",
    "\tdef __sub__(self, other):\n",
    "\t\treturn self.integer - other.integer\n",
    "\tdef __mul__(self, other):\n",
    "\t\treturn self.integer * other.integer\n",
    "\tdef __repr__(self):\n",
    "\t\treturn str(self.integer)\n"
   ]
  },
  {
   "cell_type": "code",
   "execution_count": 29,
   "id": "0c3203eb",
   "metadata": {},
   "outputs": [
    {
     "data": {
      "text/plain": [
       "2"
      ]
     },
     "execution_count": 29,
     "metadata": {},
     "output_type": "execute_result"
    }
   ],
   "source": [
    "a = NewInteger(1)\n",
    "b = NewInteger(1)\n",
    "\n",
    "a + b"
   ]
  },
  {
   "cell_type": "code",
   "execution_count": 30,
   "id": "f0ae29b4",
   "metadata": {},
   "outputs": [
    {
     "data": {
      "text/plain": [
       "0"
      ]
     },
     "execution_count": 30,
     "metadata": {},
     "output_type": "execute_result"
    }
   ],
   "source": [
    "a-b"
   ]
  },
  {
   "cell_type": "code",
   "execution_count": null,
   "id": "78932023",
   "metadata": {},
   "outputs": [],
   "source": []
  }
 ],
 "metadata": {
  "kernelspec": {
   "display_name": "Python 3 (ipykernel)",
   "language": "python",
   "name": "python3"
  },
  "language_info": {
   "codemirror_mode": {
    "name": "ipython",
    "version": 3
   },
   "file_extension": ".py",
   "mimetype": "text/x-python",
   "name": "python",
   "nbconvert_exporter": "python",
   "pygments_lexer": "ipython3",
   "version": "3.9.13"
  }
 },
 "nbformat": 4,
 "nbformat_minor": 5
}
