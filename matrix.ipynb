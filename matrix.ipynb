{
 "cells": [
  {
   "cell_type": "code",
   "execution_count": 12,
   "id": "84d07142",
   "metadata": {},
   "outputs": [],
   "source": [
    "class Matrix:\n",
    "\n",
    "    def __init__(self, data):\n",
    "        self.data = data\n",
    "        self.rows = len(data)\n",
    "        self.cols = len(data[0]) # check length of first row\n",
    "\n",
    "    def __add__(self, other):\n",
    "        # Check if dimensions are equal\n",
    "        if self.rows == other.rows and self.cols == other.cols:\n",
    "            results = []\n",
    "            for i in range(self.rows):\n",
    "                row = []\n",
    "                \n",
    "                # iterate through \n",
    "                for j in range(self.cols):\n",
    "                    sum_result = self.data[i][j] + other.data[i][j]\n",
    "                    row.append(sum_result)\n",
    "                results.append(row)\n",
    "            return results\n",
    "        else:\n",
    "            print(\"Error\")\n",
    "            return None\n",
    "        \n",
    "    def __sub__(self, other):\n",
    "        # Check if dimensions are equal\n",
    "        if self.rows == other.rows and self.cols == other.cols:\n",
    "            results = []\n",
    "            for i in range(self.rows):\n",
    "                row = []\n",
    "                for j in range(self.cols):\n",
    "                    difference_result = self.data[i][j] - other.data[i][j]\n",
    "                    row.append(difference_result)\n",
    "                results.append(row)\n",
    "            return results\n",
    "    \n",
    "    def __mul__(self, scalar):\n",
    "        results = []\n",
    "        for i in range(self.rows):\n",
    "            row = []\n",
    "            for j in range(self.cols):\n",
    "                prod_result = self.data[i][j] * scalar\n",
    "                row.append(prod_result )\n",
    "            results.append(row)\n",
    "        return results\n",
    "    \n",
    "class IdentityMatrix(n):\n",
    "    def __init__(self, n):\n",
    "        data = []\n",
    "        # Create identity matrix of size n\n",
    "        for i in range(n):\n",
    "            row = []\n",
    "            for j in range(n):\n",
    "                if i == j:\n",
    "                    row.append(1)\n",
    "                else:\n",
    "                    row.append(0)\n",
    "            data.append(row)\n",
    "        # Call the parent class constructor with the 2D list\n",
    "        super().__init__(data)                             \n",
    "        \n",
    "        \n",
    "    "
   ]
  },
  {
   "cell_type": "code",
   "execution_count": 8,
   "id": "e9cf1960",
   "metadata": {},
   "outputs": [
    {
     "data": {
      "text/plain": [
       "[[2, 3], [4, 5]]"
      ]
     },
     "execution_count": 8,
     "metadata": {},
     "output_type": "execute_result"
    }
   ],
   "source": [
    "a = Matrix([[1,2],[3,4]])\n",
    "b = Matrix([[1,1],[1,1]])\n",
    "\n",
    "result = a + b\n",
    "result"
   ]
  },
  {
   "cell_type": "code",
   "execution_count": 9,
   "id": "52307df4",
   "metadata": {},
   "outputs": [
    {
     "data": {
      "text/plain": [
       "[[0, 1], [2, 3]]"
      ]
     },
     "execution_count": 9,
     "metadata": {},
     "output_type": "execute_result"
    }
   ],
   "source": [
    "a-b"
   ]
  },
  {
   "cell_type": "code",
   "execution_count": 10,
   "id": "451c7547",
   "metadata": {},
   "outputs": [
    {
     "data": {
      "text/plain": [
       "[[2, 4], [6, 8]]"
      ]
     },
     "execution_count": 10,
     "metadata": {},
     "output_type": "execute_result"
    }
   ],
   "source": [
    "a*2"
   ]
  },
  {
   "cell_type": "code",
   "execution_count": 11,
   "id": "11e88dec",
   "metadata": {},
   "outputs": [
    {
     "data": {
      "text/plain": [
       "<__main__.IdentityMatrix at 0x22f137f5c10>"
      ]
     },
     "execution_count": 11,
     "metadata": {},
     "output_type": "execute_result"
    }
   ],
   "source": [
    "c = IdentityMatrix(2)\n",
    "c"
   ]
  },
  {
   "cell_type": "code",
   "execution_count": null,
   "id": "f397e52e",
   "metadata": {},
   "outputs": [],
   "source": []
  }
 ],
 "metadata": {
  "kernelspec": {
   "display_name": "Python 3 (ipykernel)",
   "language": "python",
   "name": "python3"
  },
  "language_info": {
   "codemirror_mode": {
    "name": "ipython",
    "version": 3
   },
   "file_extension": ".py",
   "mimetype": "text/x-python",
   "name": "python",
   "nbconvert_exporter": "python",
   "pygments_lexer": "ipython3",
   "version": "3.9.13"
  }
 },
 "nbformat": 4,
 "nbformat_minor": 5
}
